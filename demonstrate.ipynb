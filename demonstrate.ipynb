{
 "cells": [
  {
   "cell_type": "code",
   "execution_count": 55,
   "id": "south-large",
   "metadata": {},
   "outputs": [
    {
     "output_type": "execute_result",
     "data": {
      "text/plain": [
       "<module 'Scroller' from 'd:\\\\dev\\\\test_class\\\\Scroller.py'>"
      ]
     },
     "metadata": {},
     "execution_count": 55
    }
   ],
   "source": [
    "from selenium import webdriver\n",
    "import PageTool\n",
    "import Clicker\n",
    "import Resizer\n",
    "import Scroller\n",
    "import importlib\n",
    "importlib.reload(PageTool)\n",
    "importlib.reload(Clicker)\n",
    "importlib.reload(Resizer)\n",
    "importlib.reload(Scroller)"
   ]
  },
  {
   "cell_type": "code",
   "execution_count": 2,
   "id": "demanding-testament",
   "metadata": {},
   "outputs": [],
   "source": [
    "driver = webdriver.Chrome()\n",
    "driver.get(\"http://news.baidu.com/\")"
   ]
  },
  {
   "cell_type": "code",
   "execution_count": 56,
   "id": "seven-practitioner",
   "metadata": {},
   "outputs": [],
   "source": [
    "page=PageTool.PageTool(driver)"
   ]
  },
  {
   "cell_type": "code",
   "execution_count": 59,
   "id": "geological-producer",
   "metadata": {},
   "outputs": [
    {
     "output_type": "error",
     "ename": "TypeError",
     "evalue": "'module' object is not callable",
     "traceback": [
      "\u001b[1;31m---------------------------------------------------------------------------\u001b[0m",
      "\u001b[1;31mTypeError\u001b[0m                                 Traceback (most recent call last)",
      "\u001b[1;32m<ipython-input-59-13c147188134>\u001b[0m in \u001b[0;36m<module>\u001b[1;34m\u001b[0m\n\u001b[1;32m----> 1\u001b[1;33m \u001b[0mclicker\u001b[0m\u001b[1;33m=\u001b[0m\u001b[0mClicker\u001b[0m\u001b[1;33m(\u001b[0m\u001b[0mpage\u001b[0m\u001b[1;33m)\u001b[0m\u001b[1;33m\u001b[0m\u001b[1;33m\u001b[0m\u001b[0m\n\u001b[0m\u001b[0;32m      2\u001b[0m \u001b[1;32mfor\u001b[0m \u001b[0mi\u001b[0m \u001b[1;32min\u001b[0m \u001b[0mrange\u001b[0m\u001b[1;33m(\u001b[0m\u001b[1;36m10\u001b[0m\u001b[1;33m)\u001b[0m\u001b[1;33m:\u001b[0m\u001b[1;33m\u001b[0m\u001b[1;33m\u001b[0m\u001b[0m\n\u001b[0;32m      3\u001b[0m     \u001b[0mclicker\u001b[0m\u001b[1;33m.\u001b[0m\u001b[0mrun\u001b[0m\u001b[1;33m(\u001b[0m\u001b[1;33m)\u001b[0m\u001b[1;33m\u001b[0m\u001b[1;33m\u001b[0m\u001b[0m\n",
      "\u001b[1;31mTypeError\u001b[0m: 'module' object is not callable"
     ]
    }
   ],
   "source": [
    "clicker=Clicker.Clicker(page)\n",
    "for i in range(10):\n",
    "    clicker.run()"
   ]
  },
  {
   "cell_type": "code",
   "execution_count": 15,
   "metadata": {},
   "outputs": [],
   "source": [
    "resizer=Resizer.Resizer(page)\n",
    "for i in range(10):\n",
    "    resizer.run()"
   ]
  },
  {
   "cell_type": "code",
   "execution_count": 37,
   "metadata": {},
   "outputs": [],
   "source": [
    "scroller=Scroller.Scroller(page)\n",
    "for i in range(10):\n",
    "    scroller.run()\n",
    "    time.sleep(1)"
   ]
  }
 ],
 "metadata": {
  "kernelspec": {
   "name": "python385jvsc74a57bd02db524e06e9f5f4ffedc911c917cb75e12dbc923643829bf417064a77eb14d37",
   "display_name": "Python 3.8.5 64-bit"
  },
  "language_info": {
   "codemirror_mode": {
    "name": "ipython",
    "version": 3
   },
   "file_extension": ".py",
   "mimetype": "text/x-python",
   "name": "python",
   "nbconvert_exporter": "python",
   "pygments_lexer": "ipython3",
   "version": "3.8.5"
  }
 },
 "nbformat": 4,
 "nbformat_minor": 5
}