{
 "cells": [
  {
   "cell_type": "code",
   "execution_count": 1,
   "metadata": {},
   "outputs": [
    {
     "output_type": "stream",
     "name": "stdout",
     "text": [
      "[Event] Configuring...\n",
      "[Event] Page ready, you can release the cage now!\n"
     ]
    }
   ],
   "source": [
    "from src.pixies import Pixies\n",
    "from src.pixies import species\n",
    "\n",
    "cage=Pixies.Cage('https://news.baidu.com',pixieList=[species.Clicker,species.Scroller])"
   ]
  },
  {
   "cell_type": "code",
   "execution_count": 2,
   "metadata": {},
   "outputs": [
    {
     "output_type": "stream",
     "name": "stdout",
     "text": [
      "[Event] Releasing pixies...\n",
      "[Pixie] Scroller  Scrolled to position (1302,618)\n",
      "[Pixie] Scroller  Scrolled to position (1394,561)\n",
      "[Pixie] Scroller  Scrolled to position (962,901)\n",
      "[Pixie] Scroller  Scrolled to position (1191,836)\n",
      "[Pixie] Clicker   Clicked at a clickable element\n",
      "[Pixie] Clicker   Clicked at position (565,45)\n",
      "[Pixie] Clicker   Clicked at a clickable element\n",
      "[Pixie] Clicker   Clicked at a clickable element\n",
      "[Pixie] Clicker   Clicked at a clickable element\n",
      "[Pixie] Clicker   Clicked at a clickable element\n",
      "[Pixie] Clicker   Clicked at position (285,81)\n",
      "[Pixie] Clicker   Clicked at a clickable element\n",
      "[Pixie] Scroller  Scrolled to position (1458,237)\n",
      "[Pixie] Clicker   Clicked at a clickable element\n",
      "[Pixie] Clicker   Clicked at a clickable element\n",
      "[Pixie] Clicker   Clicked at a clickable element\n",
      "[Pixie] Clicker   Clicked at a clickable element\n",
      "[Pixie] Scroller  Scrolled to position (6909,753)\n",
      "[Pixie] Clicker   Clicked at position (74,71)\n",
      "[Pixie] Clicker   Clicked at a clickable element\n",
      "[Pixie] Scroller  Scrolled to position (505,743)\n",
      "[Pixie] Scroller  Scrolled to position (2514,267)\n",
      "[Pixie] Clicker   Clicked at position (661,124)\n",
      "[Pixie] Scroller  Scrolled to position (3437,115)\n",
      "[Pixie] Clicker   Clicked at a clickable element\n",
      "[Pixie] Scroller  Scrolled to position (3677,532)\n",
      "[Pixie] Clicker   Clicked at position (235,231)\n",
      "[Pixie] Scroller  Scrolled to position (984,817)\n",
      "[Pixie] Clicker   Clicked at a clickable element\n",
      "[Pixie] Scroller  Scrolled to position (2956,967)\n",
      "[Pixie] Scroller  Scrolled to position (5696,441)\n",
      "[Pixie] Clicker   Clicked at position (25,543)\n",
      "[Pixie] Scroller  Scrolled to position (1460,956)\n",
      "[Pixie] Clicker   Clicked at a clickable element\n",
      "[Pixie] Clicker   Clicked at a clickable element\n",
      "[Pixie] Scroller  Scrolled to position (2607,755)\n",
      "[Pixie] Clicker   Clicked at a clickable element\n",
      "[Pixie] Scroller  Scrolled to position (1164,22)\n",
      "[Pixie] Scroller  Scrolled to position (4671,476)\n",
      "[Pixie] Clicker   Clicked at a clickable element\n",
      "[Pixie] Clicker   Clicked at a clickable element\n",
      "[Pixie] Scroller  Scrolled to position (276,789)\n",
      "[Pixie] Scroller  Scrolled to position (7550,658)\n",
      "[Pixie] Scroller  Scrolled to position (1945,157)\n",
      "[Pixie] Clicker   Clicked at a clickable element\n",
      "[Pixie] Scroller  Scrolled to position (4441,8)\n",
      "[Pixie] Scroller  Scrolled to position (1498,770)\n",
      "[Pixie] Scroller  Scrolled to position (7204,491)\n",
      "[Pixie] Scroller  Scrolled to position (7075,343)\n",
      "[Pixie] Clicker   Clicked at a clickable element\n",
      "[Pixie] Clicker   Clicked at position (383,1)\n",
      "[Pixie] Scroller  Scrolled to position (6562,762)\n",
      "[Pixie] Clicker   Clicked at a clickable element\n",
      "[Pixie] Clicker   Clicked at a clickable element\n",
      "[Pixie] Scroller  Scrolled to position (694,816)\n",
      "[Pixie] Scroller  Scrolled to position (2424,588)\n",
      "[Pixie] Clicker   Clicked at position (242,200)\n",
      "[Pixie] Scroller  Scrolled to position (5580,965)\n",
      "[Pixie] Clicker   Clicked at a clickable element\n",
      "[Pixie] Clicker   Clicked at a clickable element\n",
      "[Pixie] Scroller  Scrolled to position (7275,976)\n",
      "[Pixie] Clicker   Clicked at a clickable element\n",
      "[Pixie] Clicker   Clicked at a clickable element\n",
      "[Pixie] Scroller  Scrolled to position (2434,156)\n",
      "[Pixie] Scroller  Scrolled to position (1288,157)\n",
      "[Pixie] Scroller  Scrolled to position (4543,738)\n",
      "[Pixie] Clicker   Clicked at position (666,505)\n",
      "[Pixie] Clicker   Clicked at a clickable element\n",
      "[Pixie] Clicker   Clicked at a clickable element\n",
      "[Pixie] Clicker   Clicked at a clickable element\n",
      "[Pixie] Clicker   Clicked at position (389,87)\n",
      "[Pixie] Scroller  Scrolled to position (2376,451)\n",
      "[Pixie] Clicker   Clicked at a clickable element\n",
      "[Pixie] Scroller  Scrolled to position (4744,895)\n",
      "[Pixie] Clicker   Clicked at a clickable element\n",
      "[Pixie] Clicker   Clicked at a clickable element\n",
      "[Pixie] Scroller  Scrolled to position (7708,734)\n",
      "[Pixie] Clicker   Clicked at position (580,74)\n",
      "[Pixie] Clicker   Clicked at a clickable element\n",
      "[Pixie] Scroller  Scrolled to position (4977,747)\n",
      "[Pixie] Scroller  Scrolled to position (1054,962)\n",
      "[Pixie] Scroller  Scrolled to position (1471,253)\n",
      "[Pixie] Scroller  Scrolled to position (3381,961)\n",
      "[Pixie] Scroller  Scrolled to position (4423,246)\n",
      "[Pixie] Scroller  Scrolled to position (2317,293)\n",
      "[Pixie] Clicker   Clicked at a clickable element\n",
      "[Pixie] Clicker   Clicked at a clickable element\n",
      "[Pixie] Clicker   Clicked at a clickable element\n",
      "[Pixie] Scroller  Scrolled to position (3655,930)\n",
      "[Pixie] Clicker   Clicked at a clickable element\n",
      "[Pixie] Clicker   Clicked at a clickable element\n",
      "[Pixie] Scroller  Scrolled to position (1891,344)\n",
      "[Pixie] Clicker   Clicked at a clickable element\n",
      "[Pixie] Scroller  Scrolled to position (7107,505)\n",
      "[Pixie] Clicker   Clicked at a clickable element\n",
      "[Pixie] Scroller  Scrolled to position (5121,920)\n",
      "[Pixie] Clicker   Clicked at a clickable element\n",
      "[Pixie] Clicker   Clicked at a clickable element\n",
      "[Pixie] Scroller  Scrolled to position (1996,628)\n",
      "[Pixie] Scroller  Scrolled to position (2621,980)\n",
      "[Event] No error detected, Peskipiksi Pesternomi!\n"
     ]
    }
   ],
   "source": [
    "cage.release()"
   ]
  }
 ],
 "metadata": {
  "kernelspec": {
   "name": "python385jvsc74a57bd02db524e06e9f5f4ffedc911c917cb75e12dbc923643829bf417064a77eb14d37",
   "display_name": "Python 3.8.5 64-bit"
  },
  "language_info": {
   "codemirror_mode": {
    "name": "ipython",
    "version": 3
   },
   "file_extension": ".py",
   "mimetype": "text/x-python",
   "name": "python",
   "nbconvert_exporter": "python",
   "pygments_lexer": "ipython3",
   "version": "3.8.5"
  }
 },
 "nbformat": 4,
 "nbformat_minor": 5
}